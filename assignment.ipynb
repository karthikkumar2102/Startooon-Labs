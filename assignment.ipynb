{
 "cells": [
  {
   "cell_type": "code",
   "execution_count": 9,
   "id": "b590464a",
   "metadata": {},
   "outputs": [
    {
     "name": "stdout",
     "output_type": "stream",
     "text": [
      "[1, 6, 7, 8]\n"
     ]
    }
   ],
   "source": [
    "r=[]\n",
    "\n",
    "#lets take a list of example\n",
    "\n",
    "list=[1,6,7,8,10]\n",
    "list=sorted(list)\n",
    "list. reverse()\n",
    "\n",
    "#lets take the sum to be formed as 22\n",
    "\n",
    "sum_to_be_formed= 22\n",
    "def a(n, b):\n",
    "    global r\n",
    "    if (len(b)==0):\n",
    "        return False\n",
    "    while (b[0]>n):\n",
    "        b.remove(b[0])\n",
    "        if (len(b)==0):\n",
    "            return False\n",
    "    if(b[0]==n):\n",
    "        r. append(b[0])\n",
    "        return True\n",
    "    for i in b:\n",
    "        if (a(round(n-i,2),b[b.index(i)+1:])):\n",
    "            r.append(i)\n",
    "            return True\n",
    "    \n",
    "    return False\n",
    "if (a(sum_to_be_formed,list)):\n",
    "    print(r)"
   ]
  },
  {
   "cell_type": "code",
   "execution_count": null,
   "id": "827f395a",
   "metadata": {},
   "outputs": [],
   "source": []
  },
  {
   "cell_type": "code",
   "execution_count": null,
   "id": "8cf29fe4",
   "metadata": {},
   "outputs": [],
   "source": []
  }
 ],
 "metadata": {
  "kernelspec": {
   "display_name": "Python 3 (ipykernel)",
   "language": "python",
   "name": "python3"
  },
  "language_info": {
   "codemirror_mode": {
    "name": "ipython",
    "version": 3
   },
   "file_extension": ".py",
   "mimetype": "text/x-python",
   "name": "python",
   "nbconvert_exporter": "python",
   "pygments_lexer": "ipython3",
   "version": "3.9.13"
  }
 },
 "nbformat": 4,
 "nbformat_minor": 5
}
